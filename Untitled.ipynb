{
 "cells": [
  {
   "cell_type": "code",
   "execution_count": 10,
   "id": "1413f992",
   "metadata": {},
   "outputs": [
    {
     "data": {
      "text/plain": [
       "['Jaden', '10', 'Anomalies-in-Logs', 'csharp', 'Accepted']"
      ]
     },
     "execution_count": 10,
     "metadata": {},
     "output_type": "execute_result"
    }
   ],
   "source": [
    "\"Jaden,10,Anomalies-in-Logs,csharp,Accepted\\n\".strip().split(\",\")"
   ]
  },
  {
   "cell_type": "code",
   "execution_count": 7,
   "id": "b66a57f9",
   "metadata": {},
   "outputs": [
    {
     "data": {
      "text/plain": [
       "0.63"
      ]
     },
     "execution_count": 7,
     "metadata": {},
     "output_type": "execute_result"
    }
   ],
   "source": [
    "round(float(0.6251),2)"
   ]
  },
  {
   "cell_type": "code",
   "execution_count": null,
   "id": "90b57140",
   "metadata": {},
   "outputs": [],
   "source": []
  }
 ],
 "metadata": {
  "kernelspec": {
   "display_name": "Python 3 (ipykernel)",
   "language": "python",
   "name": "python3"
  },
  "language_info": {
   "codemirror_mode": {
    "name": "ipython",
    "version": 3
   },
   "file_extension": ".py",
   "mimetype": "text/x-python",
   "name": "python",
   "nbconvert_exporter": "python",
   "pygments_lexer": "ipython3",
   "version": "3.9.12"
  }
 },
 "nbformat": 4,
 "nbformat_minor": 5
}
